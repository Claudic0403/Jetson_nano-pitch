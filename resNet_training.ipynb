{
  "cells": [
    {
      "cell_type": "code",
      "execution_count": 2,
      "metadata": {
        "id": "ON9MfJjWW1QU"
      },
      "outputs": [],
      "source": [
        "import torch\n",
        "import torch.nn as nn\n",
        "import torch.optim as optim\n",
        "from torchvision import datasets, transforms, models\n",
        "import os"
      ]
    },
    {
      "cell_type": "code",
      "execution_count": 3,
      "metadata": {
        "id": "ziOwkdvcW1QW"
      },
      "outputs": [],
      "source": [
        "# os.chdir('..')\n",
        "base_dir = os.getcwd()"
      ]
    },
    {
      "cell_type": "code",
      "execution_count": 4,
      "metadata": {
        "id": "mnlOBndoW1QX"
      },
      "outputs": [],
      "source": [
        "img_dir = os.path.join(base_dir, 'img')\n",
        "models_dir = os.path.join(base_dir, 'models')\n",
        "# img_dir = '/content/drive/MyDrive/JetsonNano/images'\n",
        "# models_dir = '/content/drive/MyDrive/JetsonNano/model'"
      ]
    },
    {
      "cell_type": "code",
      "execution_count": 5,
      "metadata": {
        "colab": {
          "base_uri": "https://localhost:8080/",
          "height": 35
        },
        "id": "kvLQvr7XW1QY",
        "outputId": "b25b6ff8-0527-478a-b885-46424b2e9889"
      },
      "outputs": [
        {
          "data": {
            "text/plain": [
              "'/home/claudic/JetsonNano/eye_close_project'"
            ]
          },
          "execution_count": 5,
          "metadata": {},
          "output_type": "execute_result"
        }
      ],
      "source": [
        "base_dir"
      ]
    },
    {
      "cell_type": "code",
      "execution_count": 6,
      "metadata": {
        "colab": {
          "base_uri": "https://localhost:8080/"
        },
        "id": "9ZhgasDVW1QZ",
        "outputId": "516a0c76-7ab4-4d55-becf-3d5696a59196"
      },
      "outputs": [
        {
          "name": "stdout",
          "output_type": "stream",
          "text": [
            "Train dataset size: 8000\n",
            "Test dataset size: 1000\n",
            "Validation dataset size: 1000\n"
          ]
        }
      ],
      "source": [
        "# Define the data transformations\n",
        "transform = transforms.Compose([\n",
        "    transforms.Resize((224, 224)),  # Resize images to the same size as expected by ResNet\n",
        "    transforms.ToTensor(),  # Convert images to PyTorch tensors\n",
        "    transforms.Normalize(mean=[0.485, 0.456, 0.406], std=[0.229, 0.224, 0.225])  # Normalize with ImageNet stats\n",
        "])\n",
        "\n",
        "dataset = datasets.ImageFolder(img_dir, transform=transform)\n",
        "\n",
        "# Split the dataset into train, test, and validation sets\n",
        "train_size = int(0.8 * len(dataset))\n",
        "test_size = int(0.1 * len(dataset))\n",
        "val_size = len(dataset) - train_size - test_size\n",
        "\n",
        "train_dataset, test_dataset, val_dataset = torch.utils.data.random_split(dataset, [train_size, test_size, val_size])\n",
        "\n",
        "# Create data loaders for train, test, and validation sets\n",
        "batch_size = 64  # Replace with your desired batch size\n",
        "\n",
        "train_loader = torch.utils.data.DataLoader(train_dataset, batch_size=batch_size, shuffle=True)\n",
        "test_loader = torch.utils.data.DataLoader(test_dataset, batch_size=batch_size, shuffle=True)\n",
        "val_loader = torch.utils.data.DataLoader(val_dataset, batch_size=batch_size, shuffle=True)\n",
        "\n",
        "print(f\"Train dataset size: {len(train_loader.dataset)}\")\n",
        "print(f\"Test dataset size: {len(test_loader.dataset)}\")\n",
        "print(f\"Validation dataset size: {len(val_loader.dataset)}\")"
      ]
    },
    {
      "cell_type": "code",
      "execution_count": 7,
      "metadata": {
        "colab": {
          "base_uri": "https://localhost:8080/"
        },
        "id": "4YVmgewuW1Qa",
        "outputId": "1451451f-84e5-41d2-9de7-15b13e4592f3"
      },
      "outputs": [
        {
          "data": {
            "text/plain": [
              "{'close': 0, 'open': 1}"
            ]
          },
          "execution_count": 7,
          "metadata": {},
          "output_type": "execute_result"
        }
      ],
      "source": [
        "dataset.class_to_idx"
      ]
    },
    {
      "cell_type": "code",
      "execution_count": 8,
      "metadata": {
        "id": "tEmDgCN-W1Qb"
      },
      "outputs": [
        {
          "name": "stderr",
          "output_type": "stream",
          "text": [
            "/home/claudic/anaconda3/envs/ecg-classification/lib/python3.9/site-packages/torchvision/models/_utils.py:208: UserWarning: The parameter 'pretrained' is deprecated since 0.13 and may be removed in the future, please use 'weights' instead.\n",
            "  warnings.warn(\n",
            "/home/claudic/anaconda3/envs/ecg-classification/lib/python3.9/site-packages/torchvision/models/_utils.py:223: UserWarning: Arguments other than a weight enum or `None` for 'weights' are deprecated since 0.13 and may be removed in the future. The current behavior is equivalent to passing `weights=ResNet18_Weights.IMAGENET1K_V1`. You can also use `weights=ResNet18_Weights.DEFAULT` to get the most up-to-date weights.\n",
            "  warnings.warn(msg)\n",
            "Downloading: \"https://download.pytorch.org/models/resnet18-f37072fd.pth\" to /home/claudic/.cache/torch/hub/checkpoints/resnet18-f37072fd.pth\n",
            "100.0%\n"
          ]
        }
      ],
      "source": [
        "device = torch.device(\"cuda\" if torch.cuda.is_available() else \"cpu\")\n",
        "\n",
        "# Load the pre-trained ResNet-34 model\n",
        "# model = models.resnet34(pretrained=True)\n",
        "model = models.resnet18(pretrained=True)\n",
        "\n",
        "# Modify the last fully connected layer for the desired number of classes\n",
        "num_classes = 2  # Replace with the actual number of classes in your dataset\n",
        "num_features = model.fc.in_features\n",
        "model.fc = nn.Linear(num_features, num_classes)\n",
        "\n",
        "model = model.to(device)\n",
        "\n",
        "# Define the loss function and optimizer\n",
        "criterion = nn.CrossEntropyLoss()\n",
        "optimizer = optim.SGD(model.parameters(), lr=0.001, momentum=0.9)"
      ]
    },
    {
      "cell_type": "code",
      "execution_count": 9,
      "metadata": {
        "colab": {
          "base_uri": "https://localhost:8080/"
        },
        "id": "6iARubJdW1Qb",
        "outputId": "d7b9f780-0012-4a4e-b17e-e23a90b237a9"
      },
      "outputs": [
        {
          "name": "stdout",
          "output_type": "stream",
          "text": [
            "cuda\n"
          ]
        }
      ],
      "source": [
        "print(device)"
      ]
    },
    {
      "cell_type": "code",
      "execution_count": 10,
      "metadata": {
        "colab": {
          "base_uri": "https://localhost:8080/"
        },
        "id": "Jpw0uiNuW1Qc",
        "outputId": "e5919cc9-634b-4d21-a0e1-411a831c4f01"
      },
      "outputs": [
        {
          "name": "stdout",
          "output_type": "stream",
          "text": [
            "Epoch 1/20, Loss: 0.1931429751366377\n",
            "Epoch 2/20, Loss: 0.05602213026583195\n",
            "Epoch 3/20, Loss: 0.035386771477758885\n",
            "Epoch 4/20, Loss: 0.025027242696844042\n",
            "Epoch 5/20, Loss: 0.019802252360619603\n",
            "Epoch 6/20, Loss: 0.010832715459167957\n",
            "Epoch 7/20, Loss: 0.00852872961666435\n",
            "Epoch 8/20, Loss: 0.005358825159259141\n",
            "Epoch 9/20, Loss: 0.004706163699505851\n",
            "Epoch 10/20, Loss: 0.005521663679741323\n",
            "Epoch 11/20, Loss: 0.0033315168782137336\n",
            "Epoch 12/20, Loss: 0.004250545783434063\n",
            "Epoch 13/20, Loss: 0.0018686118660261855\n",
            "Epoch 14/20, Loss: 0.002219858916127123\n",
            "Epoch 15/20, Loss: 0.0013830276886001229\n",
            "Epoch 16/20, Loss: 0.001411224022100214\n",
            "Epoch 17/20, Loss: 0.0008676790577592328\n",
            "Epoch 18/20, Loss: 0.0010012135698925703\n",
            "Epoch 19/20, Loss: 0.0010360450636944733\n",
            "Epoch 20/20, Loss: 0.0009503972740494646\n"
          ]
        }
      ],
      "source": [
        "# Train the model\n",
        "num_epochs = 20  # Replace with the desired number of training epochs\n",
        "for epoch in range(num_epochs):\n",
        "    running_loss = 0.0\n",
        "    for inputs, labels in train_loader:  # Replace train_loader with your data loader\n",
        "        inputs = inputs.to(device)  # Move inputs to the device\n",
        "        labels = labels.to(device)  # Move labels to the device\n",
        "\n",
        "        optimizer.zero_grad()\n",
        "        outputs = model(inputs)\n",
        "        loss = criterion(outputs, labels)\n",
        "        loss.backward()\n",
        "        optimizer.step()\n",
        "\n",
        "        running_loss += loss.item()\n",
        "    print(f\"Epoch {epoch+1}/{num_epochs}, Loss: {running_loss/len(train_loader)}\")\n",
        "\n"
      ]
    },
    {
      "cell_type": "code",
      "execution_count": 11,
      "metadata": {
        "id": "sz0C_-3TS3lQ"
      },
      "outputs": [],
      "source": [
        "# Save the trained model\n",
        "torch.save(model.state_dict(), f'{models_dir}/resnet18-e_20-d_10k.pth')"
      ]
    },
    {
      "cell_type": "code",
      "execution_count": 12,
      "metadata": {
        "colab": {
          "base_uri": "https://localhost:8080/"
        },
        "id": "mHQDa2thW1Qc",
        "outputId": "0339e1ce-bfc4-4149-931c-def5cd9a0f8f"
      },
      "outputs": [
        {
          "name": "stdout",
          "output_type": "stream",
          "text": [
            "Validation Accuracy: 0.984\n",
            "Confusion Matrix:\n",
            "[[500   9]\n",
            " [  7 484]]\n",
            "Classification Report:\n",
            "              precision    recall  f1-score   support\n",
            "\n",
            "           0       0.99      0.98      0.98       509\n",
            "           1       0.98      0.99      0.98       491\n",
            "\n",
            "    accuracy                           0.98      1000\n",
            "   macro avg       0.98      0.98      0.98      1000\n",
            "weighted avg       0.98      0.98      0.98      1000\n",
            "\n"
          ]
        }
      ],
      "source": [
        "import numpy as np\n",
        "from sklearn.metrics import accuracy_score, confusion_matrix, classification_report\n",
        "\n",
        "model.eval()  # Set the model to evaluation mode\n",
        "\n",
        "y_true = []\n",
        "y_pred = []\n",
        "\n",
        "with torch.no_grad():  # Disable gradient calculation for validation\n",
        "    for inputs, labels in val_loader:\n",
        "        inputs = inputs.to(device)  # Move inputs to the device\n",
        "        labels = labels.to(device)  # Move labels to the device\n",
        "\n",
        "        outputs = model(inputs)\n",
        "        _, predicted = torch.max(outputs, 1)  # Get the predicted labels\n",
        "\n",
        "        y_true.extend(labels.cpu().numpy())\n",
        "        y_pred.extend(predicted.cpu().numpy())\n",
        "\n",
        "accuracy = accuracy_score(y_true, y_pred)\n",
        "confusion_mat = confusion_matrix(y_true, y_pred)\n",
        "classification_rep = classification_report(y_true, y_pred)\n",
        "\n",
        "print(f\"Validation Accuracy: {accuracy}\")\n",
        "print(\"Confusion Matrix:\")\n",
        "print(confusion_mat)\n",
        "print(\"Classification Report:\")\n",
        "print(classification_rep)"
      ]
    }
  ],
  "metadata": {
    "accelerator": "TPU",
    "colab": {
      "gpuType": "V28",
      "provenance": []
    },
    "kernelspec": {
      "display_name": "Python 3",
      "name": "python3"
    },
    "language_info": {
      "codemirror_mode": {
        "name": "ipython",
        "version": 3
      },
      "file_extension": ".py",
      "mimetype": "text/x-python",
      "name": "python",
      "nbconvert_exporter": "python",
      "pygments_lexer": "ipython3",
      "version": "3.9.19"
    }
  },
  "nbformat": 4,
  "nbformat_minor": 0
}
